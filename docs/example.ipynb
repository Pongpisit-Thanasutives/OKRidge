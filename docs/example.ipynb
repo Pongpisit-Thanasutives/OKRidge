{
    "cells": [
        {
            "attachments": {},
            "cell_type": "markdown",
            "metadata": {},
            "source": [
                "# Example usage\n",
                "\n",
                "To use `okridge` in a project:"
            ]
        },
        {
            "attachments": {},
            "cell_type": "markdown",
            "metadata": {},
            "source": [
                "## Import Necessary packages"
            ]
        },
        {
            "cell_type": "code",
            "execution_count": 2,
            "metadata": {},
            "outputs": [],
            "source": [
                "import os\n",
                "import numpy as np\n",
                "from okridge.tree import BNBTree\n",
                "from okridge.utils import download_file_from_google_drive\n",
                "from pathlib import Path"
            ]
        },
        {
            "attachments": {},
            "cell_type": "markdown",
            "metadata": {},
            "source": [
                "## Download Sample Synthetic Data"
            ]
        },
        {
            "cell_type": "code",
            "execution_count": 4,
            "metadata": {},
            "outputs": [
                {
                    "name": "stdout",
                    "output_type": "stream",
                    "text": [
                        "Shape of feature matrix is (6000, 3000)\n",
                        "There are 6000 number of samples\n"
                    ]
                }
            ],
            "source": [
                "data_file_path = \"../tests/Synthetic_n=6000_p=3000_k=10_rho=0.5_snr=5.0_seed=0.npy\"\n",
                "\n",
                "if not os.path.isfile(data_file_path):\n",
                "    download_file_from_google_drive('1lizlnufRBmEzMNpr0OlgE-P7otC8opkX', data_file_path)\n",
                "\n",
                "loaded_data = np.load(data_file_path, allow_pickle=True)\n",
                "X, y = loaded_data.item().get(\"X\"), loaded_data.item().get(\"y\")\n",
                "\n",
                "print(\"Shape of feature matrix is\", X.shape)\n",
                "print(\"There are {} number of samples\".format(len(y)))"
            ]
        },
        {
            "attachments": {},
            "cell_type": "markdown",
            "metadata": {},
            "source": [
                "## Apply OKRidge Software"
            ]
        },
        {
            "cell_type": "code",
            "execution_count": 8,
            "metadata": {},
            "outputs": [
                {
                    "name": "stdout",
                    "output_type": "stream",
                    "text": [
                        "we take lambda to be 513.4124044068881\n",
                        "max_memory_GB is larger than available memory. Using all available memory (2.2282333374023438 GB) in the machine\n",
                        "max number of saved solutions is 2226571\n",
                        "initializing took 0.002254009246826172 seconds\n",
                        "0 levels of depth used\n",
                        "there are 0 nodes left in the bfs queue\n",
                        "l: 0, (d: -659444.6478942618, u: -657798.0645024217, g: 0.002503174576966306, t: 15.029995679855347 s\n",
                        "there are 0 nodes left in the bfs queue\n",
                        "l: 1, (d: -659387.8270570671, u: -657798.0645024217, g: 0.0024167942115305044, t: 26.396912336349487 s\n",
                        "there are 0 nodes left in the bfs queue\n",
                        "l: 2, (d: -659317.8396916108, u: -657798.0645024217, g: 0.0023103977819374216, t: 39.599390268325806 s\n",
                        "there are 0 nodes left in the bfs queue\n",
                        "l: 3, (d: -659250.2763933846, u: -657798.0645024217, g: 0.002207686476033345, t: 51.607298135757446 s\n",
                        "there are 0 nodes left in the bfs queue\n",
                        "l: 4, (d: -659169.0430832554, u: -657798.0645024217, g: 0.002084193698366704, t: 64.0999104976654 s\n",
                        "there are 0 nodes left in the bfs queue\n",
                        "l: 5, (d: -659066.9599284587, u: -657798.0645024217, g: 0.001929004499271146, t: 75.2990710735321 s\n",
                        "there are 0 nodes left in the bfs queue\n",
                        "l: 6, (d: -658941.7627230202, u: -657798.0645024217, g: 0.001738676779877179, t: 87.89323616027832 s\n",
                        "there are 0 nodes left in the bfs queue\n",
                        "l: 7, (d: -658798.4741379292, u: -657798.0645024217, g: 0.0015208461220758407, t: 99.79527235031128 s\n",
                        "there are 0 nodes left in the bfs queue\n",
                        "l: 8, (d: -658604.8032165653, u: -657798.0645024217, g: 0.0012264230585018146, t: 110.70206189155579 s\n",
                        "there are 0 nodes left in the bfs queue\n",
                        "l: 9, (d: -658331.2630668279, u: -657798.0645024217, g: 0.0008105809262445597, t: 121.6005527973175 s\n"
                    ]
                }
            ],
            "source": [
                "k = 10 # cardinality constraint\n",
                "lambda2 = 0.1 # l2 regularization parameter\n",
                "gap_tol = 1e-4 # optimality gap tolerance\n",
                "verbose = True # print out the progress\n",
                "time_limit = 180 # time limit in seconds\n",
                "\n",
                "BnB_optimizer = BNBTree(X=X, y=y, lambda2=lambda2)\n",
                "\n",
                "upper_bound, betas, optimality_gap, max_lower_bound, running_time = BnB_optimizer.solve(k = k, gap_tol = gap_tol, verbose = verbose, time_limit = time_limit)"
            ]
        },
        {
            "cell_type": "code",
            "execution_count": 11,
            "metadata": {},
            "outputs": [
                {
                    "name": "stdout",
                    "output_type": "stream",
                    "text": [
                        "Loss of best solution is -657798.0645024217\n",
                        "indices of nonzero coefficients are [   0  300  600  900 1200 1500 1800 2100 2400 2700]\n",
                        "Optimality gap is 0.0%\n",
                        "Running time is 127.77510619163513 seconds\n"
                    ]
                }
            ],
            "source": [
                "print(\"Loss of best solution is\", upper_bound)\n",
                "print(\"indices of nonzero coefficients are\", np.where(betas != 0)[0])\n",
                "print(\"Optimality gap is {}%\".format(optimality_gap * 100))\n",
                "print(\"Running time is {} seconds\".format(running_time))"
            ]
        },
        {
            "cell_type": "code",
            "execution_count": null,
            "metadata": {},
            "outputs": [],
            "source": []
        }
    ],
    "metadata": {
        "kernelspec": {
            "display_name": "Python 3",
            "language": "python",
            "name": "python3"
        },
        "language_info": {
            "codemirror_mode": {
                "name": "ipython",
                "version": 3
            },
            "file_extension": ".py",
            "mimetype": "text/x-python",
            "name": "python",
            "nbconvert_exporter": "python",
            "pygments_lexer": "ipython3",
            "version": "3.12.0"
        }
    },
    "nbformat": 4,
    "nbformat_minor": 4
}
