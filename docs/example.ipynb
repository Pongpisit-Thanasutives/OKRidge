{
 "cells": [
  {
   "attachments": {},
   "cell_type": "markdown",
   "metadata": {},
   "source": [
    "# Example usage\n",
    "\n",
    "To use `okridge` in a project:"
   ]
  },
  {
   "attachments": {},
   "cell_type": "markdown",
   "metadata": {},
   "source": [
    "## Import Necessary packages"
   ]
  },
  {
   "cell_type": "code",
   "execution_count": 1,
   "metadata": {
    "execution": {
     "iopub.execute_input": "2023-12-03T22:37:49.718292Z",
     "iopub.status.busy": "2023-12-03T22:37:49.714708Z",
     "iopub.status.idle": "2023-12-03T22:37:50.894896Z",
     "shell.execute_reply": "2023-12-03T22:37:50.894085Z"
    }
   },
   "outputs": [],
   "source": [
    "import os\n",
    "import numpy as np\n",
    "from okridge.tree import BNBTree\n",
    "from okridge.utils import download_file_from_google_drive\n",
    "from pathlib import Path"
   ]
  },
  {
   "attachments": {},
   "cell_type": "markdown",
   "metadata": {},
   "source": [
    "## Download Sample Synthetic Data"
   ]
  },
  {
   "cell_type": "code",
   "execution_count": 2,
   "metadata": {
    "execution": {
     "iopub.execute_input": "2023-12-03T22:37:50.900719Z",
     "iopub.status.busy": "2023-12-03T22:37:50.899308Z",
     "iopub.status.idle": "2023-12-03T22:37:50.989915Z",
     "shell.execute_reply": "2023-12-03T22:37:50.989489Z"
    }
   },
   "outputs": [
    {
     "name": "stdout",
     "output_type": "stream",
     "text": [
      "Shape of feature matrix is (6000, 3000)\n",
      "There are 6000 number of samples\n"
     ]
    }
   ],
   "source": [
    "data_file_path = \"../tests/Synthetic_n=6000_p=3000_k=10_rho=0.5_snr=5.0_seed=0.npy\"\n",
    "\n",
    "if not os.path.isfile(data_file_path):\n",
    "    download_file_from_google_drive('1lizlnufRBmEzMNpr0OlgE-P7otC8opkX', data_file_path)\n",
    "\n",
    "loaded_data = np.load(data_file_path, allow_pickle=True)\n",
    "X, y = loaded_data.item().get(\"X\"), loaded_data.item().get(\"y\")\n",
    "\n",
    "print(\"Shape of feature matrix is\", X.shape)\n",
    "print(\"There are {} number of samples\".format(len(y)))"
   ]
  },
  {
   "attachments": {},
   "cell_type": "markdown",
   "metadata": {},
   "source": [
    "## Apply OKRidge Software"
   ]
  },
  {
   "cell_type": "code",
   "execution_count": 3,
   "metadata": {
    "execution": {
     "iopub.execute_input": "2023-12-03T22:37:51.048212Z",
     "iopub.status.busy": "2023-12-03T22:37:51.047995Z",
     "iopub.status.idle": "2023-12-03T22:38:24.511640Z",
     "shell.execute_reply": "2023-12-03T22:38:24.511210Z"
    }
   },
   "outputs": [
    {
     "name": "stdout",
     "output_type": "stream",
     "text": [
      "we take lambda to be 513.4124044069406\n",
      "Using max memory (300 GB)\n",
      "max number of saved solutions is 2226571\n",
      "initializing took 0.00545811653137207 seconds\n",
      "0 levels of depth used\n",
      "there are 0 nodes left in the bfs queue\n",
      "l: 0, (d: -659444.6478942606, u: -657798.0645024217, g: 0.002503174576964536, t: 2.6654200553894043 s\n",
      "there are 0 nodes left in the bfs queue\n",
      "l: 1, (d: -659387.827057067, u: -657798.0645024217, g: 0.0024167942115303274, t: 5.3681488037109375 s\n",
      "there are 0 nodes left in the bfs queue\n",
      "l: 2, (d: -659317.83969161, u: -657798.0645024217, g: 0.0023103977819361825, t: 8.060096025466919 s\n",
      "there are 0 nodes left in the bfs queue\n",
      "l: 3, (d: -659250.2763933846, u: -657798.0645024217, g: 0.002207686476033345, t: 10.704739809036255 s\n",
      "there are 0 nodes left in the bfs queue\n",
      "l: 4, (d: -659169.0430832551, u: -657798.0645024217, g: 0.0020841936983661733, t: 13.276453733444214 s\n",
      "there are 0 nodes left in the bfs queue\n",
      "l: 5, (d: -659066.9599284586, u: -657798.0645024217, g: 0.001929004499270969, t: 15.771344900131226 s\n",
      "there are 0 nodes left in the bfs queue\n",
      "l: 6, (d: -658941.7627230188, u: -657798.0645024217, g: 0.0017386767798750554, t: 18.33037757873535 s\n",
      "there are 0 nodes left in the bfs queue\n",
      "l: 7, (d: -658798.4741379283, u: -657798.0645024217, g: 0.001520846122074602, t: 20.768666744232178 s\n",
      "there are 0 nodes left in the bfs queue\n",
      "l: 8, (d: -658604.803216565, u: -657798.0645024217, g: 0.0012264230585014605, t: 23.197070360183716 s\n",
      "there are 0 nodes left in the bfs queue\n",
      "l: 9, (d: -658331.263066827, u: -657798.0645024217, g: 0.0008105809262431438, t: 25.58532953262329 s\n"
     ]
    }
   ],
   "source": [
    "k = 10 # cardinality constraint\n",
    "lambda2 = 0.1 # l2 regularization parameter\n",
    "gap_tol = 1e-4 # optimality gap tolerance\n",
    "verbose = True # print out the progress\n",
    "time_limit = 180 # time limit in seconds\n",
    "\n",
    "BnB_optimizer = BNBTree(X=X, y=y, lambda2=lambda2)\n",
    "\n",
    "upper_bound, betas, optimality_gap, max_lower_bound, running_time = BnB_optimizer.solve(k = k, gap_tol = gap_tol, verbose = verbose, time_limit = time_limit)"
   ]
  },
  {
   "cell_type": "code",
   "execution_count": 4,
   "metadata": {
    "execution": {
     "iopub.execute_input": "2023-12-03T22:38:24.514996Z",
     "iopub.status.busy": "2023-12-03T22:38:24.514205Z",
     "iopub.status.idle": "2023-12-03T22:38:24.519178Z",
     "shell.execute_reply": "2023-12-03T22:38:24.518819Z"
    }
   },
   "outputs": [
    {
     "name": "stdout",
     "output_type": "stream",
     "text": [
      "Loss of best solution is -657798.0645024217\n",
      "indices of nonzero coefficients are [   0  300  600  900 1200 1500 1800 2100 2400 2700]\n",
      "Optimality gap is 0.0%\n",
      "Running time is 27.14901828765869 seconds\n"
     ]
    }
   ],
   "source": [
    "print(\"Loss of best solution is\", upper_bound)\n",
    "print(\"indices of nonzero coefficients are\", np.where(betas != 0)[0])\n",
    "print(\"Optimality gap is {}%\".format(optimality_gap * 100))\n",
    "print(\"Running time is {} seconds\".format(running_time))"
   ]
  },
  {
   "cell_type": "code",
   "execution_count": null,
   "metadata": {},
   "outputs": [],
   "source": []
  }
 ],
 "metadata": {
  "kernelspec": {
   "display_name": "Python 3 (ipykernel)",
   "language": "python",
   "name": "python3"
  },
  "language_info": {
   "codemirror_mode": {
    "name": "ipython",
    "version": 3
   },
   "file_extension": ".py",
   "mimetype": "text/x-python",
   "name": "python",
   "nbconvert_exporter": "python",
   "pygments_lexer": "ipython3",
   "version": "3.12.0"
  }
 },
 "nbformat": 4,
 "nbformat_minor": 4
}
